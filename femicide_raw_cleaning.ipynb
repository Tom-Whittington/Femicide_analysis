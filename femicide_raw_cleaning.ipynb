{
 "cells": [
  {
   "cell_type": "code",
   "execution_count": 32,
   "id": "583fde74",
   "metadata": {},
   "outputs": [],
   "source": [
    "import pandas as pd"
   ]
  },
  {
   "cell_type": "code",
   "execution_count": 33,
   "id": "e17468ef",
   "metadata": {},
   "outputs": [],
   "source": [
    "df_raw = pd.read_excel(r'raw_data/homicide_country_download.xlsx')"
   ]
  },
  {
   "cell_type": "markdown",
   "id": "9f117725",
   "metadata": {},
   "source": [
    "### Only selects rows containing Female"
   ]
  },
  {
   "cell_type": "code",
   "execution_count": 34,
   "id": "66ffee59",
   "metadata": {
    "scrolled": true
   },
   "outputs": [],
   "source": [
    "df =df_raw[df_raw['Gender'] == 'Female']"
   ]
  },
  {
   "cell_type": "markdown",
   "id": "54e8d253",
   "metadata": {},
   "source": [
    "### Selects rows that contain count rather than rate, for use later on if we decide to calculate rates for countries that don't have data avaliable"
   ]
  },
  {
   "cell_type": "code",
   "execution_count": 35,
   "id": "d24bd1da",
   "metadata": {},
   "outputs": [],
   "source": [
    "df_count = df[df['Unit']== 'Count']\n",
    "df_count.to_csv('df_femicide_count.csv', index=False)"
   ]
  },
  {
   "cell_type": "markdown",
   "id": "cd0f4470",
   "metadata": {},
   "source": [
    "### Selects only rows that are rates"
   ]
  },
  {
   "cell_type": "code",
   "execution_count": 37,
   "id": "3497adab",
   "metadata": {},
   "outputs": [],
   "source": [
    "df = df[df['Unit']!= 'Count']"
   ]
  },
  {
   "cell_type": "markdown",
   "id": "800f8832",
   "metadata": {},
   "source": [
    "### Drops uneeded columns"
   ]
  },
  {
   "cell_type": "code",
   "execution_count": 38,
   "id": "a5836f2b",
   "metadata": {},
   "outputs": [],
   "source": [
    "df = df.drop(columns=['Indicator', 'Disaggregation', 'Source', 'Unit', 'Gender', 'Footnote'])"
   ]
  },
  {
   "cell_type": "markdown",
   "id": "3159bbb5",
   "metadata": {},
   "source": [
    "### Makes all headers lowercase"
   ]
  },
  {
   "cell_type": "code",
   "execution_count": 39,
   "id": "47e30e6d",
   "metadata": {},
   "outputs": [],
   "source": [
    "df.columns = [col.lower() for col in df.columns]"
   ]
  },
  {
   "cell_type": "code",
   "execution_count": 40,
   "id": "486e9a16",
   "metadata": {},
   "outputs": [],
   "source": [
    "df = df.rename(columns = {'value' : 'femicide_per_100k'})"
   ]
  },
  {
   "cell_type": "markdown",
   "id": "31346b12",
   "metadata": {},
   "source": [
    "### Converts column to numeric data type"
   ]
  },
  {
   "cell_type": "code",
   "execution_count": 41,
   "id": "ed50f2c3",
   "metadata": {},
   "outputs": [],
   "source": [
    "df[\"femicide_per_100k\"] = pd.to_numeric(df[\"femicide_per_100k\"], errors='coerce')"
   ]
  },
  {
   "cell_type": "markdown",
   "id": "0016f5c5",
   "metadata": {},
   "source": [
    "### Drops NA values"
   ]
  },
  {
   "cell_type": "code",
   "execution_count": 42,
   "id": "e0ab77e7",
   "metadata": {},
   "outputs": [],
   "source": [
    "df = df.dropna(subset='femicide_per_100k')"
   ]
  },
  {
   "cell_type": "markdown",
   "id": "c9ba40b6",
   "metadata": {},
   "source": [
    "### Sets data types"
   ]
  },
  {
   "cell_type": "code",
   "execution_count": 43,
   "id": "c0c94e0f",
   "metadata": {
    "scrolled": false
   },
   "outputs": [],
   "source": [
    "df= df.astype({'region' : 'category', 'subregion' : 'category', 'year' : 'int64', 'femicide_per_100k' : 'float64' })"
   ]
  },
  {
   "cell_type": "code",
   "execution_count": 44,
   "id": "26ac9a7f",
   "metadata": {},
   "outputs": [],
   "source": [
    "df"
   ]
  },
  {
   "cell_type": "code",
   "execution_count": 45,
   "id": "b0473be0",
   "metadata": {},
   "outputs": [],
   "source": [
    "df.to_csv('df_femicide_cleaned.csv', index=False)"
   ]
  }
 ],
 "metadata": {
  "kernelspec": {
   "display_name": "Python 3 (ipykernel)",
   "language": "python",
   "name": "python3"
  },
  "language_info": {
   "codemirror_mode": {
    "name": "ipython",
    "version": 3
   },
   "file_extension": ".py",
   "mimetype": "text/x-python",
   "name": "python",
   "nbconvert_exporter": "python",
   "pygments_lexer": "ipython3",
   "version": "3.10.6"
  }
 },
 "nbformat": 4,
 "nbformat_minor": 5
}
