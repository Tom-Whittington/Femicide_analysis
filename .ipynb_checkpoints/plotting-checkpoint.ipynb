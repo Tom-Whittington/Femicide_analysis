{
 "cells": [
  {
   "cell_type": "code",
   "execution_count": 1,
   "id": "6629bb20",
   "metadata": {},
   "outputs": [
    {
     "name": "stdout",
     "output_type": "stream",
     "text": [
      "%cache magic is now registered in ipython\n"
     ]
    }
   ],
   "source": [
    "import pandas as pd\n",
    "import pymongo\n",
    "import json\n",
    "import seaborn as sns\n",
    "import datetime as dt\n",
    "import ipywidgets as widgets\n",
    "import cache_magic\n",
    "import geopandas as gpd\n",
    "import matplotlib.pyplot as plt\n",
    "import re"
   ]
  },
  {
   "cell_type": "code",
   "execution_count": 2,
   "id": "3b93d11d",
   "metadata": {},
   "outputs": [],
   "source": [
    "def get_data():\n",
    "    \n",
    "    with open(\"local/pass.json\") as file:\n",
    "        file = json.loads(file.read())\n",
    "        connection_string = file.get('connection_string')\n",
    "        client = pymongo.MongoClient(\n",
    "            connection_string)\n",
    "        db = client[\"femicide\"]\n",
    "        df = pd.DataFrame(db['master'].find())\n",
    "        \n",
    "    return df"
   ]
  },
  {
   "cell_type": "code",
   "execution_count": 3,
   "id": "ecc3bebc",
   "metadata": {},
   "outputs": [],
   "source": [
    "sns.set_style(\"darkgrid\")"
   ]
  },
  {
   "cell_type": "code",
   "execution_count": 4,
   "id": "2a22cb07",
   "metadata": {
    "scrolled": false
   },
   "outputs": [
    {
     "data": {
      "text/html": [
       "<div>\n",
       "<style scoped>\n",
       "    .dataframe tbody tr th:only-of-type {\n",
       "        vertical-align: middle;\n",
       "    }\n",
       "\n",
       "    .dataframe tbody tr th {\n",
       "        vertical-align: top;\n",
       "    }\n",
       "\n",
       "    .dataframe thead th {\n",
       "        text-align: right;\n",
       "    }\n",
       "</style>\n",
       "<table border=\"1\" class=\"dataframe\">\n",
       "  <thead>\n",
       "    <tr style=\"text-align: right;\">\n",
       "      <th></th>\n",
       "      <th>iso3</th>\n",
       "      <th>year</th>\n",
       "      <th>continent</th>\n",
       "      <th>region</th>\n",
       "      <th>country</th>\n",
       "      <th>fem_pop</th>\n",
       "      <th>femicide_count</th>\n",
       "      <th>femicide_rate</th>\n",
       "      <th>suicide_count</th>\n",
       "      <th>suicide_rate</th>\n",
       "      <th>gnipc</th>\n",
       "      <th>gini</th>\n",
       "      <th>mat_deaths</th>\n",
       "    </tr>\n",
       "  </thead>\n",
       "  <tbody>\n",
       "    <tr>\n",
       "      <th>0</th>\n",
       "      <td>ABW</td>\n",
       "      <td>1990-01-01</td>\n",
       "      <td>America</td>\n",
       "      <td>Caribbean</td>\n",
       "      <td>Aruba</td>\n",
       "      <td>33480.0</td>\n",
       "      <td>0.0</td>\n",
       "      <td>0.000000</td>\n",
       "      <td>NaN</td>\n",
       "      <td>NaN</td>\n",
       "      <td>11570.0</td>\n",
       "      <td>NaN</td>\n",
       "      <td>NaN</td>\n",
       "    </tr>\n",
       "    <tr>\n",
       "      <th>1</th>\n",
       "      <td>ABW</td>\n",
       "      <td>1991-01-01</td>\n",
       "      <td>America</td>\n",
       "      <td>Caribbean</td>\n",
       "      <td>Aruba</td>\n",
       "      <td>34657.0</td>\n",
       "      <td>NaN</td>\n",
       "      <td>NaN</td>\n",
       "      <td>NaN</td>\n",
       "      <td>NaN</td>\n",
       "      <td>12560.0</td>\n",
       "      <td>NaN</td>\n",
       "      <td>NaN</td>\n",
       "    </tr>\n",
       "    <tr>\n",
       "      <th>2</th>\n",
       "      <td>ABW</td>\n",
       "      <td>1992-01-01</td>\n",
       "      <td>America</td>\n",
       "      <td>Caribbean</td>\n",
       "      <td>Aruba</td>\n",
       "      <td>35941.0</td>\n",
       "      <td>NaN</td>\n",
       "      <td>NaN</td>\n",
       "      <td>NaN</td>\n",
       "      <td>NaN</td>\n",
       "      <td>13610.0</td>\n",
       "      <td>NaN</td>\n",
       "      <td>NaN</td>\n",
       "    </tr>\n",
       "    <tr>\n",
       "      <th>3</th>\n",
       "      <td>ABW</td>\n",
       "      <td>1993-01-01</td>\n",
       "      <td>America</td>\n",
       "      <td>Caribbean</td>\n",
       "      <td>Aruba</td>\n",
       "      <td>37137.0</td>\n",
       "      <td>NaN</td>\n",
       "      <td>NaN</td>\n",
       "      <td>NaN</td>\n",
       "      <td>NaN</td>\n",
       "      <td>14640.0</td>\n",
       "      <td>NaN</td>\n",
       "      <td>NaN</td>\n",
       "    </tr>\n",
       "    <tr>\n",
       "      <th>4</th>\n",
       "      <td>ABW</td>\n",
       "      <td>1994-01-01</td>\n",
       "      <td>America</td>\n",
       "      <td>Caribbean</td>\n",
       "      <td>Aruba</td>\n",
       "      <td>38437.0</td>\n",
       "      <td>NaN</td>\n",
       "      <td>NaN</td>\n",
       "      <td>NaN</td>\n",
       "      <td>NaN</td>\n",
       "      <td>16060.0</td>\n",
       "      <td>NaN</td>\n",
       "      <td>NaN</td>\n",
       "    </tr>\n",
       "    <tr>\n",
       "      <th>...</th>\n",
       "      <td>...</td>\n",
       "      <td>...</td>\n",
       "      <td>...</td>\n",
       "      <td>...</td>\n",
       "      <td>...</td>\n",
       "      <td>...</td>\n",
       "      <td>...</td>\n",
       "      <td>...</td>\n",
       "      <td>...</td>\n",
       "      <td>...</td>\n",
       "      <td>...</td>\n",
       "      <td>...</td>\n",
       "      <td>...</td>\n",
       "    </tr>\n",
       "    <tr>\n",
       "      <th>7175</th>\n",
       "      <td>ZWE</td>\n",
       "      <td>2018-01-01</td>\n",
       "      <td>Africa</td>\n",
       "      <td>Eastern Africa</td>\n",
       "      <td>Zimbabwe</td>\n",
       "      <td>7966181.0</td>\n",
       "      <td>163.0</td>\n",
       "      <td>2.046150</td>\n",
       "      <td>693.0</td>\n",
       "      <td>8.7</td>\n",
       "      <td>1550.0</td>\n",
       "      <td>NaN</td>\n",
       "      <td>1700.0</td>\n",
       "    </tr>\n",
       "    <tr>\n",
       "      <th>7176</th>\n",
       "      <td>ZWE</td>\n",
       "      <td>2019-01-01</td>\n",
       "      <td>Africa</td>\n",
       "      <td>Eastern Africa</td>\n",
       "      <td>Zimbabwe</td>\n",
       "      <td>8122618.0</td>\n",
       "      <td>167.0</td>\n",
       "      <td>2.055987</td>\n",
       "      <td>715.0</td>\n",
       "      <td>8.8</td>\n",
       "      <td>1450.0</td>\n",
       "      <td>50.3</td>\n",
       "      <td>1900.0</td>\n",
       "    </tr>\n",
       "    <tr>\n",
       "      <th>7177</th>\n",
       "      <td>ZWE</td>\n",
       "      <td>2020-01-01</td>\n",
       "      <td>Africa</td>\n",
       "      <td>Eastern Africa</td>\n",
       "      <td>Zimbabwe</td>\n",
       "      <td>8284447.0</td>\n",
       "      <td>146.0</td>\n",
       "      <td>1.762339</td>\n",
       "      <td>NaN</td>\n",
       "      <td>NaN</td>\n",
       "      <td>1460.0</td>\n",
       "      <td>NaN</td>\n",
       "      <td>1700.0</td>\n",
       "    </tr>\n",
       "    <tr>\n",
       "      <th>7178</th>\n",
       "      <td>ZWE</td>\n",
       "      <td>2021-01-01</td>\n",
       "      <td>Africa</td>\n",
       "      <td>Eastern Africa</td>\n",
       "      <td>Zimbabwe</td>\n",
       "      <td>8449834.0</td>\n",
       "      <td>158.0</td>\n",
       "      <td>1.869859</td>\n",
       "      <td>NaN</td>\n",
       "      <td>NaN</td>\n",
       "      <td>1530.0</td>\n",
       "      <td>NaN</td>\n",
       "      <td>NaN</td>\n",
       "    </tr>\n",
       "    <tr>\n",
       "      <th>7179</th>\n",
       "      <td>ZWE</td>\n",
       "      <td>2022-01-01</td>\n",
       "      <td>Africa</td>\n",
       "      <td>Eastern Africa</td>\n",
       "      <td>Zimbabwe</td>\n",
       "      <td>8614935.0</td>\n",
       "      <td>NaN</td>\n",
       "      <td>NaN</td>\n",
       "      <td>NaN</td>\n",
       "      <td>NaN</td>\n",
       "      <td>1500.0</td>\n",
       "      <td>NaN</td>\n",
       "      <td>NaN</td>\n",
       "    </tr>\n",
       "  </tbody>\n",
       "</table>\n",
       "<p>7180 rows × 13 columns</p>\n",
       "</div>"
      ],
      "text/plain": [
       "     iso3       year continent          region   country    fem_pop  \\\n",
       "0     ABW 1990-01-01   America       Caribbean     Aruba    33480.0   \n",
       "1     ABW 1991-01-01   America       Caribbean     Aruba    34657.0   \n",
       "2     ABW 1992-01-01   America       Caribbean     Aruba    35941.0   \n",
       "3     ABW 1993-01-01   America       Caribbean     Aruba    37137.0   \n",
       "4     ABW 1994-01-01   America       Caribbean     Aruba    38437.0   \n",
       "...   ...        ...       ...             ...       ...        ...   \n",
       "7175  ZWE 2018-01-01    Africa  Eastern Africa  Zimbabwe  7966181.0   \n",
       "7176  ZWE 2019-01-01    Africa  Eastern Africa  Zimbabwe  8122618.0   \n",
       "7177  ZWE 2020-01-01    Africa  Eastern Africa  Zimbabwe  8284447.0   \n",
       "7178  ZWE 2021-01-01    Africa  Eastern Africa  Zimbabwe  8449834.0   \n",
       "7179  ZWE 2022-01-01    Africa  Eastern Africa  Zimbabwe  8614935.0   \n",
       "\n",
       "      femicide_count  femicide_rate  suicide_count  suicide_rate    gnipc  \\\n",
       "0                0.0       0.000000            NaN           NaN  11570.0   \n",
       "1                NaN            NaN            NaN           NaN  12560.0   \n",
       "2                NaN            NaN            NaN           NaN  13610.0   \n",
       "3                NaN            NaN            NaN           NaN  14640.0   \n",
       "4                NaN            NaN            NaN           NaN  16060.0   \n",
       "...              ...            ...            ...           ...      ...   \n",
       "7175           163.0       2.046150          693.0           8.7   1550.0   \n",
       "7176           167.0       2.055987          715.0           8.8   1450.0   \n",
       "7177           146.0       1.762339            NaN           NaN   1460.0   \n",
       "7178           158.0       1.869859            NaN           NaN   1530.0   \n",
       "7179             NaN            NaN            NaN           NaN   1500.0   \n",
       "\n",
       "      gini  mat_deaths  \n",
       "0      NaN         NaN  \n",
       "1      NaN         NaN  \n",
       "2      NaN         NaN  \n",
       "3      NaN         NaN  \n",
       "4      NaN         NaN  \n",
       "...    ...         ...  \n",
       "7175   NaN      1700.0  \n",
       "7176  50.3      1900.0  \n",
       "7177   NaN      1700.0  \n",
       "7178   NaN         NaN  \n",
       "7179   NaN         NaN  \n",
       "\n",
       "[7180 rows x 13 columns]"
      ]
     },
     "execution_count": 4,
     "metadata": {},
     "output_type": "execute_result"
    }
   ],
   "source": [
    "#df = get_data()\n",
    "df = pd.read_csv('test.csv')\n",
    "df['year'] = pd.to_datetime(df['year'], format='%Y-%m-%d')\n",
    "df"
   ]
  },
  {
   "cell_type": "markdown",
   "id": "7b605e39",
   "metadata": {},
   "source": [
    "## Descriptive statistics"
   ]
  },
  {
   "cell_type": "code",
   "execution_count": 5,
   "id": "c1bf3a4c",
   "metadata": {},
   "outputs": [
    {
     "data": {
      "text/html": [
       "<div>\n",
       "<style scoped>\n",
       "    .dataframe tbody tr th:only-of-type {\n",
       "        vertical-align: middle;\n",
       "    }\n",
       "\n",
       "    .dataframe tbody tr th {\n",
       "        vertical-align: top;\n",
       "    }\n",
       "\n",
       "    .dataframe thead th {\n",
       "        text-align: right;\n",
       "    }\n",
       "</style>\n",
       "<table border=\"1\" class=\"dataframe\">\n",
       "  <thead>\n",
       "    <tr style=\"text-align: right;\">\n",
       "      <th></th>\n",
       "      <th>fem_pop</th>\n",
       "      <th>femicide_count</th>\n",
       "      <th>femicide_rate</th>\n",
       "      <th>suicide_count</th>\n",
       "      <th>suicide_rate</th>\n",
       "      <th>gnipc</th>\n",
       "      <th>gini</th>\n",
       "      <th>mat_deaths</th>\n",
       "    </tr>\n",
       "  </thead>\n",
       "  <tbody>\n",
       "    <tr>\n",
       "      <th>count</th>\n",
       "      <td>7.128000e+03</td>\n",
       "      <td>2598.000000</td>\n",
       "      <td>2564.000000</td>\n",
       "      <td>3660.000000</td>\n",
       "      <td>3660.000000</td>\n",
       "      <td>6053.000000</td>\n",
       "      <td>1826.000000</td>\n",
       "      <td>3885.000000</td>\n",
       "    </tr>\n",
       "    <tr>\n",
       "      <th>mean</th>\n",
       "      <td>1.523767e+07</td>\n",
       "      <td>476.770593</td>\n",
       "      <td>2.367748</td>\n",
       "      <td>1298.661202</td>\n",
       "      <td>5.055902</td>\n",
       "      <td>11118.818768</td>\n",
       "      <td>37.953012</td>\n",
       "      <td>1929.494723</td>\n",
       "    </tr>\n",
       "    <tr>\n",
       "      <th>std</th>\n",
       "      <td>6.017959e+07</td>\n",
       "      <td>1860.158809</td>\n",
       "      <td>2.707486</td>\n",
       "      <td>7202.703613</td>\n",
       "      <td>4.035601</td>\n",
       "      <td>17052.591994</td>\n",
       "      <td>8.840724</td>\n",
       "      <td>7595.224175</td>\n",
       "    </tr>\n",
       "    <tr>\n",
       "      <th>min</th>\n",
       "      <td>4.579000e+03</td>\n",
       "      <td>0.000000</td>\n",
       "      <td>0.000000</td>\n",
       "      <td>0.000000</td>\n",
       "      <td>0.000000</td>\n",
       "      <td>40.000000</td>\n",
       "      <td>20.700000</td>\n",
       "      <td>0.000000</td>\n",
       "    </tr>\n",
       "    <tr>\n",
       "      <th>25%</th>\n",
       "      <td>3.187610e+05</td>\n",
       "      <td>9.000000</td>\n",
       "      <td>0.677045</td>\n",
       "      <td>43.000000</td>\n",
       "      <td>2.300000</td>\n",
       "      <td>1070.000000</td>\n",
       "      <td>31.225000</td>\n",
       "      <td>7.000000</td>\n",
       "    </tr>\n",
       "    <tr>\n",
       "      <th>50%</th>\n",
       "      <td>2.706933e+06</td>\n",
       "      <td>38.000000</td>\n",
       "      <td>1.338884</td>\n",
       "      <td>182.500000</td>\n",
       "      <td>4.000000</td>\n",
       "      <td>3680.000000</td>\n",
       "      <td>35.850000</td>\n",
       "      <td>82.000000</td>\n",
       "    </tr>\n",
       "    <tr>\n",
       "      <th>75%</th>\n",
       "      <td>9.542442e+06</td>\n",
       "      <td>156.000000</td>\n",
       "      <td>3.015460</td>\n",
       "      <td>511.250000</td>\n",
       "      <td>6.600000</td>\n",
       "      <td>13340.000000</td>\n",
       "      <td>43.275000</td>\n",
       "      <td>1000.000000</td>\n",
       "    </tr>\n",
       "    <tr>\n",
       "      <th>max</th>\n",
       "      <td>6.915285e+08</td>\n",
       "      <td>18731.000000</td>\n",
       "      <td>24.878716</td>\n",
       "      <td>90711.000000</td>\n",
       "      <td>39.500000</td>\n",
       "      <td>125240.000000</td>\n",
       "      <td>65.800000</td>\n",
       "      <td>110000.000000</td>\n",
       "    </tr>\n",
       "  </tbody>\n",
       "</table>\n",
       "</div>"
      ],
      "text/plain": [
       "            fem_pop  femicide_count  femicide_rate  suicide_count  \\\n",
       "count  7.128000e+03     2598.000000    2564.000000    3660.000000   \n",
       "mean   1.523767e+07      476.770593       2.367748    1298.661202   \n",
       "std    6.017959e+07     1860.158809       2.707486    7202.703613   \n",
       "min    4.579000e+03        0.000000       0.000000       0.000000   \n",
       "25%    3.187610e+05        9.000000       0.677045      43.000000   \n",
       "50%    2.706933e+06       38.000000       1.338884     182.500000   \n",
       "75%    9.542442e+06      156.000000       3.015460     511.250000   \n",
       "max    6.915285e+08    18731.000000      24.878716   90711.000000   \n",
       "\n",
       "       suicide_rate          gnipc         gini     mat_deaths  \n",
       "count   3660.000000    6053.000000  1826.000000    3885.000000  \n",
       "mean       5.055902   11118.818768    37.953012    1929.494723  \n",
       "std        4.035601   17052.591994     8.840724    7595.224175  \n",
       "min        0.000000      40.000000    20.700000       0.000000  \n",
       "25%        2.300000    1070.000000    31.225000       7.000000  \n",
       "50%        4.000000    3680.000000    35.850000      82.000000  \n",
       "75%        6.600000   13340.000000    43.275000    1000.000000  \n",
       "max       39.500000  125240.000000    65.800000  110000.000000  "
      ]
     },
     "execution_count": 5,
     "metadata": {},
     "output_type": "execute_result"
    }
   ],
   "source": [
    "df.describe()"
   ]
  },
  {
   "cell_type": "markdown",
   "id": "8e5cd43c",
   "metadata": {},
   "source": [
    "## Trending"
   ]
  },
  {
   "cell_type": "code",
   "execution_count": null,
   "id": "d517df77",
   "metadata": {},
   "outputs": [],
   "source": []
  },
  {
   "cell_type": "code",
   "execution_count": 10,
   "id": "e263eb57",
   "metadata": {},
   "outputs": [
    {
     "data": {
      "application/vnd.jupyter.widget-view+json": {
       "model_id": "36353d5b88a947f2a7d4ab007efc1945",
       "version_major": 2,
       "version_minor": 0
      },
      "text/plain": [
       "Dropdown(description='Variable:', index=2, options=('fem_pop', 'femicide_count', 'femicide_rate', 'suicide_cou…"
      ]
     },
     "metadata": {},
     "output_type": "display_data"
    },
    {
     "data": {
      "application/vnd.jupyter.widget-view+json": {
       "model_id": "a3574926bd6346b58df68dc2235637ab",
       "version_major": 2,
       "version_minor": 0
      },
      "text/plain": [
       "Dropdown(description='Country:', options=('Aruba', 'Afghanistan', 'Angola', 'Anguilla', 'Albania', 'Andorra', …"
      ]
     },
     "metadata": {},
     "output_type": "display_data"
    }
   ],
   "source": [
    "variable=widgets.Dropdown(\n",
    "        options=df.columns[5:-1],\n",
    "        value='femicide_rate',\n",
    "        description='Variable:',\n",
    "        disabled=False)\n",
    "\n",
    "display(variable)\n",
    "\n",
    "country=widgets.Dropdown(\n",
    "        options=df['country'].unique(),\n",
    "        value='Aruba',\n",
    "        description='Country:',\n",
    "        disabled=False)\n",
    "\n",
    "display(country)"
   ]
  },
  {
   "cell_type": "code",
   "execution_count": 11,
   "id": "c2d9f07d",
   "metadata": {},
   "outputs": [
    {
     "data": {
      "text/plain": [
       "<Axes: xlabel='year', ylabel='femicide_rate'>"
      ]
     },
     "execution_count": 11,
     "metadata": {},
     "output_type": "execute_result"
    },
    {
     "data": {
      "image/png": "[encoded data removed]",
      "text/plain": [
       "<Figure size 640x480 with 1 Axes>"
      ]
     },
     "metadata": {},
     "output_type": "display_data"
    }
   ],
   "source": [
    "df_trend = df[df['country'] == country.value]\n",
    "df_trend = df_trend[['year', variable.value]]\n",
    "sns.lineplot(data=df_trend, x='year', y=variable.value)"
   ]
  },
  {
   "cell_type": "code",
   "execution_count": null,
   "id": "ce88575f",
   "metadata": {},
   "outputs": [],
   "source": []
  },
  {
   "cell_type": "markdown",
   "id": "359aff1d",
   "metadata": {},
   "source": [
    "### Mean Global Femicide Count over time"
   ]
  },
  {
   "cell_type": "code",
   "execution_count": null,
   "id": "b9735395",
   "metadata": {
    "scrolled": false
   },
   "outputs": [],
   "source": [
    "df_fem_mean = df.groupby('year')['femicide_count'].mean()\n",
    "sns.lineplot(data=df_fem_mean)"
   ]
  },
  {
   "cell_type": "markdown",
   "id": "9a7b46bd",
   "metadata": {},
   "source": [
    "### Mean Global Femicide Rate over time"
   ]
  },
  {
   "cell_type": "code",
   "execution_count": null,
   "id": "d4e09efe",
   "metadata": {
    "scrolled": false
   },
   "outputs": [],
   "source": [
    "df_fem_mean = df.groupby('year')['femicide_rate'].mean()\n",
    "sns.lineplot(data=df_fem_mean)"
   ]
  },
  {
   "cell_type": "markdown",
   "id": "339ecccc",
   "metadata": {},
   "source": [
    "### Median Global Femicide Count over time"
   ]
  },
  {
   "cell_type": "code",
   "execution_count": null,
   "id": "dd7444a4",
   "metadata": {
    "scrolled": true
   },
   "outputs": [],
   "source": [
    "df_fem_median = df.groupby('year')['femicide_count'].median()\n",
    "sns.lineplot(data=df_fem_median)"
   ]
  },
  {
   "cell_type": "markdown",
   "id": "166fab63",
   "metadata": {},
   "source": [
    "### Median Global Femicide Rate over time"
   ]
  },
  {
   "cell_type": "code",
   "execution_count": null,
   "id": "219839fc",
   "metadata": {
    "scrolled": true
   },
   "outputs": [],
   "source": [
    "df_fem_median = df.groupby('year')['femicide_rate'].median()\n",
    "sns.lineplot(data=df_fem_median)"
   ]
  },
  {
   "cell_type": "markdown",
   "id": "0505ed63",
   "metadata": {},
   "source": [
    "### Sum of Global Femicide Count over time"
   ]
  },
  {
   "cell_type": "code",
   "execution_count": null,
   "id": "c848a4e8",
   "metadata": {
    "scrolled": true
   },
   "outputs": [],
   "source": [
    "df_fem_sum = df.groupby('year')['femicide_count'].sum()\n",
    "df_fem_sum = df_fem_sum[0:-1]\n",
    "sns.lineplot(data=df_fem_sum)"
   ]
  },
  {
   "cell_type": "markdown",
   "id": "bb8f3bf5",
   "metadata": {},
   "source": [
    "### Sum of Global Suicide Count over time"
   ]
  },
  {
   "cell_type": "code",
   "execution_count": null,
   "id": "0180eac1",
   "metadata": {
    "scrolled": true
   },
   "outputs": [],
   "source": [
    "df_suic_sum = df.groupby('year')['suicide_count'].sum()\n",
    "sns.lineplot(data=df_suic_sum)"
   ]
  },
  {
   "cell_type": "markdown",
   "id": "433e784f",
   "metadata": {},
   "source": [
    "### Histogram of years in dataset"
   ]
  },
  {
   "cell_type": "code",
   "execution_count": null,
   "id": "42986205",
   "metadata": {
    "scrolled": true
   },
   "outputs": [],
   "source": [
    "df_hist = df.dropna(subset='femicide_count')\n",
    "sns.histplot(data=df_hist['year'])"
   ]
  },
  {
   "cell_type": "markdown",
   "id": "05c09993",
   "metadata": {},
   "source": [
    "## Mapping "
   ]
  },
  {
   "cell_type": "code",
   "execution_count": null,
   "id": "d88e7bc9",
   "metadata": {},
   "outputs": [],
   "source": [
    "def plot_global(df, year, column, shapes):\n",
    "    \n",
    "    df_fem_map = df.copy()\n",
    "    df_fem_map = df_fem_map[df_fem_map['year'].dt.year == year.value]\n",
    "    df_fem_map = df_fem_map.merge(shapes, on='iso3', how='left')\n",
    "    df_fem_map = df_fem_map.dropna(subset='geometry')\n",
    "    gdf = gpd.GeoDataFrame(df_fem_map, geometry='geometry', crs=\"EPSG:4326\")\n",
    "    \n",
    "    fig , ax = plt.subplots(figsize=(24, 17))\n",
    "    gdf.plot(column=column.value, ax=ax)\n",
    "    ax.set_title(str(year.value) + ' Global ' + re.sub(r'_', ' ', column.value).capitalize())\n",
    "    plt.xticks([])\n",
    "    plt.yticks([])\n",
    "    \n",
    "    return fig\n",
    "    "
   ]
  },
  {
   "cell_type": "code",
   "execution_count": null,
   "id": "144d6077",
   "metadata": {
    "scrolled": true
   },
   "outputs": [],
   "source": [
    "shapes = gpd.read_file('/vsicurl/https://github.com/Tom-Whittington/Femicide_analysis/raw/main/county_shapes/WB_countries_Admin0_10m.shp')\n",
    "shapes = shapes[['ISO_A3', 'geometry']]\n",
    "shapes = shapes.rename(columns={ 'ISO_A3' : 'iso3'})\n",
    "\n",
    "year = widgets.IntSlider(min=1990,\n",
    "                  max=2023,\n",
    "                 continuous_update=True)\n",
    "display(year)\n",
    "\n",
    "column=widgets.Dropdown(\n",
    "        options=df.columns[5:-1],\n",
    "        value='femicide_count',\n",
    "        description='Column:',\n",
    "        disabled=False)\n",
    "\n",
    "display(column)"
   ]
  },
  {
   "cell_type": "code",
   "execution_count": null,
   "id": "7a2bc21b",
   "metadata": {},
   "outputs": [],
   "source": [
    "fig = plot_global(df, year, column, shapes)"
   ]
  },
  {
   "cell_type": "markdown",
   "id": "3a552286",
   "metadata": {},
   "source": [
    "## Decade analysis"
   ]
  },
  {
   "cell_type": "code",
   "execution_count": null,
   "id": "5469b403",
   "metadata": {},
   "outputs": [],
   "source": [
    "df_dec = df.copy()\n",
    "df_dec=df_dec.set_index('year')\n",
    "df_dec = df_dec.groupby(['iso3', ((df_dec.index.year//10)*10)]).mean(numeric_only=True)\n",
    "df_dec.index = df_dec.index.rename({'year' : 'decade'})"
   ]
  },
  {
   "cell_type": "markdown",
   "id": "b1649dd6",
   "metadata": {},
   "source": [
    "### Femicide Rate Change over decades"
   ]
  },
  {
   "cell_type": "code",
   "execution_count": null,
   "id": "fa84ae4b",
   "metadata": {},
   "outputs": [],
   "source": [
    "df_fem_dec = df_dec.copy()\n",
    "df_fem_dec = df_fem_dec['femicide_rate'].reset_index()\n",
    "countries = df_fem_dec['iso3'].unique()\n",
    "df_whole = pd.DataFrame()\n",
    "#df_fem_dec['femicide_rate_diff'] = df_fem_dec.diff()\n",
    "df_fem_dec['diff']=df_fem_dec['femicide_rate'].diff()\n",
    "df_fem_dec"
   ]
  },
  {
   "cell_type": "code",
   "execution_count": null,
   "id": "6ceaf0f2",
   "metadata": {},
   "outputs": [],
   "source": []
  }
 ],
 "metadata": {
  "kernelspec": {
   "display_name": "Python 3 (ipykernel)",
   "language": "python",
   "name": "python3"
  },
  "language_info": {
   "codemirror_mode": {
    "name": "ipython",
    "version": 3
   },
   "file_extension": ".py",
   "mimetype": "text/x-python",
   "name": "python",
   "nbconvert_exporter": "python",
   "pygments_lexer": "ipython3",
   "version": "3.11.2"
  }
 },
 "nbformat": 4,
 "nbformat_minor": 5
}
