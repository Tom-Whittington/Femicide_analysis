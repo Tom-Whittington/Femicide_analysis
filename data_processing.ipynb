{
 "cells": [
  {
   "cell_type": "code",
   "execution_count": 1,
   "id": "81184be1-106a-483b-9d2a-6908935bcbfb",
   "metadata": {},
   "outputs": [],
   "source": [
    "import pandas as pd"
   ]
  },
  {
   "cell_type": "code",
   "execution_count": 3,
   "id": "f345b3f2-4d83-44ef-a799-128c4ae788ce",
   "metadata": {},
   "outputs": [],
   "source": [
    "df = pd.read_csv(r'raw_data/wb_cia_combined_economic.csv')"
   ]
  },
  {
   "cell_type": "code",
   "execution_count": 7,
   "id": "00484f07-4a1a-49f8-86a5-f6715394b623",
   "metadata": {},
   "outputs": [
    {
     "data": {
      "text/plain": [
       "iso3        object\n",
       "year        object\n",
       "country     object\n",
       "gnipc      float64\n",
       "gini       float64\n",
       "dtype: object"
      ]
     },
     "execution_count": 7,
     "metadata": {},
     "output_type": "execute_result"
    }
   ],
   "source": [
    "df"
   ]
  },
  {
   "cell_type": "code",
   "execution_count": 5,
   "id": "00c7cff9-c628-4003-9279-7e3b536e6d54",
   "metadata": {},
   "outputs": [
    {
     "data": {
      "text/plain": [
       "5820.0"
      ]
     },
     "execution_count": 5,
     "metadata": {},
     "output_type": "execute_result"
    }
   ],
   "source": [
    "world_median_gnipc = df['gnipc'].median()\n",
    "world_median_gnipc"
   ]
  },
  {
   "cell_type": "code",
   "execution_count": 6,
   "id": "3270e6e8-a741-40f4-8985-fe4ce37896a5",
   "metadata": {},
   "outputs": [
    {
     "data": {
      "text/plain": [
       "35.2"
      ]
     },
     "execution_count": 6,
     "metadata": {},
     "output_type": "execute_result"
    }
   ],
   "source": [
    "world_median_gini = df['gini'].median()\n",
    "world_median_gini"
   ]
  },
  {
   "cell_type": "code",
   "execution_count": null,
   "id": "96020b02-4710-4300-9a7a-83b758346f28",
   "metadata": {},
   "outputs": [],
   "source": [
    "df['income_level'] = np.where(df['gnipc'] > world_median_gnipc, 'high', 'low')"
   ]
  },
  {
   "cell_type": "code",
   "execution_count": null,
   "id": "1baaf595-109d-451f-b17e-8b449860f1f6",
   "metadata": {},
   "outputs": [],
   "source": [
    "df['inequality_level'] = np.where(df['gini'] > world_median_gini, 'high', 'low')"
   ]
  },
  {
   "cell_type": "code",
   "execution_count": null,
   "id": "5a92672a-ecce-469a-9020-d271f31c7d1b",
   "metadata": {},
   "outputs": [],
   "source": [
    "df"
   ]
  },
  {
   "cell_type": "code",
   "execution_count": null,
   "id": "cfa34373-25e8-4dc2-8f64-ad21082dbcfa",
   "metadata": {},
   "outputs": [],
   "source": []
  },
  {
   "cell_type": "code",
   "execution_count": null,
   "id": "c6fcf6a5-07cd-4ec5-9dcc-04aba1190661",
   "metadata": {},
   "outputs": [],
   "source": []
  }
 ],
 "metadata": {
  "kernelspec": {
   "display_name": "Python 3 (ipykernel)",
   "language": "python",
   "name": "python3"
  },
  "language_info": {
   "codemirror_mode": {
    "name": "ipython",
    "version": 3
   },
   "file_extension": ".py",
   "mimetype": "text/x-python",
   "name": "python",
   "nbconvert_exporter": "python",
   "pygments_lexer": "ipython3",
   "version": "3.10.6"
  }
 },
 "nbformat": 4,
 "nbformat_minor": 5
}
