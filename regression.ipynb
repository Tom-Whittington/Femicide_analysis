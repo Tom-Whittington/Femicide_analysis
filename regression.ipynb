{
 "cells": [
  {
   "cell_type": "code",
   "execution_count": 1,
   "id": "5ec660d5",
   "metadata": {},
   "outputs": [],
   "source": [
    "import pandas as pd\n",
    "from sklearn.linear_model import LinearRegression\n",
    "import matplotlib.pyplot as plt"
   ]
  },
  {
   "cell_type": "code",
   "execution_count": 12,
   "id": "a97bce0b",
   "metadata": {},
   "outputs": [
    {
     "name": "stderr",
     "output_type": "stream",
     "text": [
      "/tmp/ipykernel_7395/713288620.py:4: FutureWarning: The default value of numeric_only in DataFrameGroupBy.mean is deprecated. In a future version, numeric_only will default to False. Either specify numeric_only or select only columns which should be valid for the function.\n",
      "  df.groupby('year').mean()\n"
     ]
    },
    {
     "data": {
      "text/html": [
       "<div>\n",
       "<style scoped>\n",
       "    .dataframe tbody tr th:only-of-type {\n",
       "        vertical-align: middle;\n",
       "    }\n",
       "\n",
       "    .dataframe tbody tr th {\n",
       "        vertical-align: top;\n",
       "    }\n",
       "\n",
       "    .dataframe thead th {\n",
       "        text-align: right;\n",
       "    }\n",
       "</style>\n",
       "<table border=\"1\" class=\"dataframe\">\n",
       "  <thead>\n",
       "    <tr style=\"text-align: right;\">\n",
       "      <th></th>\n",
       "      <th>femicide_rate</th>\n",
       "      <th>gnipc</th>\n",
       "    </tr>\n",
       "    <tr>\n",
       "      <th>year</th>\n",
       "      <th></th>\n",
       "      <th></th>\n",
       "    </tr>\n",
       "  </thead>\n",
       "  <tbody>\n",
       "    <tr>\n",
       "      <th>2001-01-01</th>\n",
       "      <td>0.634086</td>\n",
       "      <td>15540.0</td>\n",
       "    </tr>\n",
       "    <tr>\n",
       "      <th>2002-01-01</th>\n",
       "      <td>0.634640</td>\n",
       "      <td>15630.0</td>\n",
       "    </tr>\n",
       "    <tr>\n",
       "      <th>2003-01-01</th>\n",
       "      <td>0.796220</td>\n",
       "      <td>18080.0</td>\n",
       "    </tr>\n",
       "    <tr>\n",
       "      <th>2004-01-01</th>\n",
       "      <td>0.859426</td>\n",
       "      <td>22130.0</td>\n",
       "    </tr>\n",
       "    <tr>\n",
       "      <th>2005-01-01</th>\n",
       "      <td>0.583066</td>\n",
       "      <td>25910.0</td>\n",
       "    </tr>\n",
       "    <tr>\n",
       "      <th>2006-01-01</th>\n",
       "      <td>0.708923</td>\n",
       "      <td>27850.0</td>\n",
       "    </tr>\n",
       "    <tr>\n",
       "      <th>2007-01-01</th>\n",
       "      <td>0.730094</td>\n",
       "      <td>29770.0</td>\n",
       "    </tr>\n",
       "    <tr>\n",
       "      <th>2008-01-01</th>\n",
       "      <td>0.546917</td>\n",
       "      <td>32250.0</td>\n",
       "    </tr>\n",
       "    <tr>\n",
       "      <th>2009-01-01</th>\n",
       "      <td>0.581531</td>\n",
       "      <td>32560.0</td>\n",
       "    </tr>\n",
       "    <tr>\n",
       "      <th>2010-01-01</th>\n",
       "      <td>0.662122</td>\n",
       "      <td>31970.0</td>\n",
       "    </tr>\n",
       "    <tr>\n",
       "      <th>2011-01-01</th>\n",
       "      <td>0.540969</td>\n",
       "      <td>31020.0</td>\n",
       "    </tr>\n",
       "    <tr>\n",
       "      <th>2012-01-01</th>\n",
       "      <td>0.527315</td>\n",
       "      <td>29540.0</td>\n",
       "    </tr>\n",
       "    <tr>\n",
       "      <th>2013-01-01</th>\n",
       "      <td>0.511350</td>\n",
       "      <td>29230.0</td>\n",
       "    </tr>\n",
       "    <tr>\n",
       "      <th>2014-01-01</th>\n",
       "      <td>0.541931</td>\n",
       "      <td>29160.0</td>\n",
       "    </tr>\n",
       "    <tr>\n",
       "      <th>2015-01-01</th>\n",
       "      <td>0.835719</td>\n",
       "      <td>34795.0</td>\n",
       "    </tr>\n",
       "    <tr>\n",
       "      <th>2016-01-01</th>\n",
       "      <td>0.665579</td>\n",
       "      <td>33335.0</td>\n",
       "    </tr>\n",
       "    <tr>\n",
       "      <th>2017-01-01</th>\n",
       "      <td>0.626053</td>\n",
       "      <td>32720.0</td>\n",
       "    </tr>\n",
       "    <tr>\n",
       "      <th>2018-01-01</th>\n",
       "      <td>0.581208</td>\n",
       "      <td>35250.0</td>\n",
       "    </tr>\n",
       "    <tr>\n",
       "      <th>2019-01-01</th>\n",
       "      <td>0.654570</td>\n",
       "      <td>36410.0</td>\n",
       "    </tr>\n",
       "    <tr>\n",
       "      <th>2020-01-01</th>\n",
       "      <td>0.537623</td>\n",
       "      <td>33285.0</td>\n",
       "    </tr>\n",
       "    <tr>\n",
       "      <th>2021-01-01</th>\n",
       "      <td>0.542258</td>\n",
       "      <td>36925.0</td>\n",
       "    </tr>\n",
       "  </tbody>\n",
       "</table>\n",
       "</div>"
      ],
      "text/plain": [
       "            femicide_rate    gnipc\n",
       "year                              \n",
       "2001-01-01       0.634086  15540.0\n",
       "2002-01-01       0.634640  15630.0\n",
       "2003-01-01       0.796220  18080.0\n",
       "2004-01-01       0.859426  22130.0\n",
       "2005-01-01       0.583066  25910.0\n",
       "2006-01-01       0.708923  27850.0\n",
       "2007-01-01       0.730094  29770.0\n",
       "2008-01-01       0.546917  32250.0\n",
       "2009-01-01       0.581531  32560.0\n",
       "2010-01-01       0.662122  31970.0\n",
       "2011-01-01       0.540969  31020.0\n",
       "2012-01-01       0.527315  29540.0\n",
       "2013-01-01       0.511350  29230.0\n",
       "2014-01-01       0.541931  29160.0\n",
       "2015-01-01       0.835719  34795.0\n",
       "2016-01-01       0.665579  33335.0\n",
       "2017-01-01       0.626053  32720.0\n",
       "2018-01-01       0.581208  35250.0\n",
       "2019-01-01       0.654570  36410.0\n",
       "2020-01-01       0.537623  33285.0\n",
       "2021-01-01       0.542258  36925.0"
      ]
     },
     "execution_count": 12,
     "metadata": {},
     "output_type": "execute_result"
    }
   ],
   "source": [
    "df = pd.read_csv('test.csv')\n",
    "df = df[['iso3', 'year', 'country', 'femicide_rate', 'gnipc']]\n",
    "df = df[(df['country'] == 'France') | (df['country'] == 'Spain')]\n",
    "df.groupby('year').mean()\n"
   ]
  },
  {
   "cell_type": "code",
   "execution_count": 3,
   "id": "3b7c0345",
   "metadata": {},
   "outputs": [],
   "source": [
    "X, y = df['gnipc'].values, df['femicide_rate'].values"
   ]
  },
  {
   "cell_type": "code",
   "execution_count": 4,
   "id": "2dee09d0",
   "metadata": {},
   "outputs": [],
   "source": [
    "X = X.reshape(7, 1)\n",
    "y = y.reshape(7, 1)"
   ]
  },
  {
   "cell_type": "code",
   "execution_count": 5,
   "id": "62592b44",
   "metadata": {},
   "outputs": [
    {
     "data": {
      "text/html": [
       "<div>\n",
       "<style scoped>\n",
       "    .dataframe tbody tr th:only-of-type {\n",
       "        vertical-align: middle;\n",
       "    }\n",
       "\n",
       "    .dataframe tbody tr th {\n",
       "        vertical-align: top;\n",
       "    }\n",
       "\n",
       "    .dataframe thead th {\n",
       "        text-align: right;\n",
       "    }\n",
       "</style>\n",
       "<table border=\"1\" class=\"dataframe\">\n",
       "  <thead>\n",
       "    <tr style=\"text-align: right;\">\n",
       "      <th></th>\n",
       "      <th>index</th>\n",
       "      <th>0</th>\n",
       "    </tr>\n",
       "  </thead>\n",
       "  <tbody>\n",
       "    <tr>\n",
       "      <th>0</th>\n",
       "      <td>coefficent</td>\n",
       "      <td>[[-3.0705123147537234e-06]]</td>\n",
       "    </tr>\n",
       "    <tr>\n",
       "      <th>1</th>\n",
       "      <td>intercept</td>\n",
       "      <td>[0.9127287380359705]</td>\n",
       "    </tr>\n",
       "  </tbody>\n",
       "</table>\n",
       "</div>"
      ],
      "text/plain": [
       "        index                            0\n",
       "0  coefficent  [[-3.0705123147537234e-06]]\n",
       "1   intercept         [0.9127287380359705]"
      ]
     },
     "execution_count": 5,
     "metadata": {},
     "output_type": "execute_result"
    }
   ],
   "source": [
    "model = LinearRegression()\n",
    "model.fit(X, y)\n",
    "\n",
    "attr = pd.Series([model.coef_, model.intercept_], index=['coefficent', 'intercept']).reset_index()\n",
    "attr"
   ]
  },
  {
   "cell_type": "code",
   "execution_count": 6,
   "id": "9c29fb70",
   "metadata": {},
   "outputs": [
    {
     "data": {
      "text/plain": [
       "index                     coefficent\n",
       "0        [[-3.0705123147537234e-06]]\n",
       "Name: 0, dtype: object"
      ]
     },
     "execution_count": 6,
     "metadata": {},
     "output_type": "execute_result"
    }
   ],
   "source": [
    "attr.iloc[0]"
   ]
  },
  {
   "cell_type": "code",
   "execution_count": 7,
   "id": "d633d935",
   "metadata": {},
   "outputs": [
    {
     "ename": "NameError",
     "evalue": "name 'r' is not defined",
     "output_type": "error",
     "traceback": [
      "\u001b[0;31m---------------------------------------------------------------------------\u001b[0m",
      "\u001b[0;31mNameError\u001b[0m                                 Traceback (most recent call last)",
      "Cell \u001b[0;32mIn[7], line 1\u001b[0m\n\u001b[0;32m----> 1\u001b[0m \u001b[43mr\u001b[49m\u001b[38;5;241m.\u001b[39mintercept_\n",
      "\u001b[0;31mNameError\u001b[0m: name 'r' is not defined"
     ]
    }
   ],
   "source": [
    "r.intercept_"
   ]
  },
  {
   "cell_type": "code",
   "execution_count": null,
   "id": "f251bdec",
   "metadata": {},
   "outputs": [],
   "source": []
  }
 ],
 "metadata": {
  "kernelspec": {
   "display_name": "Python 3 (ipykernel)",
   "language": "python",
   "name": "python3"
  },
  "language_info": {
   "codemirror_mode": {
    "name": "ipython",
    "version": 3
   },
   "file_extension": ".py",
   "mimetype": "text/x-python",
   "name": "python",
   "nbconvert_exporter": "python",
   "pygments_lexer": "ipython3",
   "version": "3.11.2"
  }
 },
 "nbformat": 4,
 "nbformat_minor": 5
}
