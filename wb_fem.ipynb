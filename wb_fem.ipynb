{
 "cells": [
  {
   "cell_type": "code",
   "execution_count": 1,
   "id": "5ccff112-6ae2-4733-bf39-f6ed07dcdcce",
   "metadata": {
    "tags": []
   },
   "outputs": [],
   "source": [
    "import pandas as pd\n",
    "import wbgapi as wb"
   ]
  },
  {
   "cell_type": "code",
   "execution_count": 4,
   "id": "0f9aa77c-29d3-4c26-a931-284351629e27",
   "metadata": {
    "tags": []
   },
   "outputs": [],
   "source": [
    "df_raw = wb.data.DataFrame('VC.IHR.PSRC.FE.P5', time=range(1990,2023), labels=True, skipBlanks =True, columns='series', skipAggs=True)"
   ]
  },
  {
   "cell_type": "code",
   "execution_count": 5,
   "id": "22f56b36-1422-475a-8038-7a88569514ed",
   "metadata": {
    "tags": []
   },
   "outputs": [
    {
     "data": {
      "text/html": [
       "<div>\n",
       "<style scoped>\n",
       "    .dataframe tbody tr th:only-of-type {\n",
       "        vertical-align: middle;\n",
       "    }\n",
       "\n",
       "    .dataframe tbody tr th {\n",
       "        vertical-align: top;\n",
       "    }\n",
       "\n",
       "    .dataframe thead th {\n",
       "        text-align: right;\n",
       "    }\n",
       "</style>\n",
       "<table border=\"1\" class=\"dataframe\">\n",
       "  <thead>\n",
       "    <tr style=\"text-align: right;\">\n",
       "      <th></th>\n",
       "      <th></th>\n",
       "      <th>Country</th>\n",
       "      <th>Time</th>\n",
       "      <th>VC.IHR.PSRC.FE.P5</th>\n",
       "    </tr>\n",
       "    <tr>\n",
       "      <th>economy</th>\n",
       "      <th>time</th>\n",
       "      <th></th>\n",
       "      <th></th>\n",
       "      <th></th>\n",
       "    </tr>\n",
       "  </thead>\n",
       "  <tbody>\n",
       "    <tr>\n",
       "      <th>ZWE</th>\n",
       "      <th>YR1990</th>\n",
       "      <td>Zimbabwe</td>\n",
       "      <td>1990</td>\n",
       "      <td>3.491390</td>\n",
       "    </tr>\n",
       "    <tr>\n",
       "      <th rowspan=\"4\" valign=\"top\">PSE</th>\n",
       "      <th>YR2020</th>\n",
       "      <td>West Bank and Gaza</td>\n",
       "      <td>2020</td>\n",
       "      <td>0.556783</td>\n",
       "    </tr>\n",
       "    <tr>\n",
       "      <th>YR2019</th>\n",
       "      <td>West Bank and Gaza</td>\n",
       "      <td>2019</td>\n",
       "      <td>0.285124</td>\n",
       "    </tr>\n",
       "    <tr>\n",
       "      <th>YR2018</th>\n",
       "      <td>West Bank and Gaza</td>\n",
       "      <td>2018</td>\n",
       "      <td>0.125190</td>\n",
       "    </tr>\n",
       "    <tr>\n",
       "      <th>YR2017</th>\n",
       "      <td>West Bank and Gaza</td>\n",
       "      <td>2017</td>\n",
       "      <td>0.213772</td>\n",
       "    </tr>\n",
       "    <tr>\n",
       "      <th>...</th>\n",
       "      <th>...</th>\n",
       "      <td>...</td>\n",
       "      <td>...</td>\n",
       "      <td>...</td>\n",
       "    </tr>\n",
       "    <tr>\n",
       "      <th rowspan=\"5\" valign=\"top\">AFG</th>\n",
       "      <th>YR2019</th>\n",
       "      <td>Afghanistan</td>\n",
       "      <td>2019</td>\n",
       "      <td>1.285650</td>\n",
       "    </tr>\n",
       "    <tr>\n",
       "      <th>YR2018</th>\n",
       "      <td>Afghanistan</td>\n",
       "      <td>2018</td>\n",
       "      <td>0.846291</td>\n",
       "    </tr>\n",
       "    <tr>\n",
       "      <th>YR2017</th>\n",
       "      <td>Afghanistan</td>\n",
       "      <td>2017</td>\n",
       "      <td>0.753792</td>\n",
       "    </tr>\n",
       "    <tr>\n",
       "      <th>YR2016</th>\n",
       "      <td>Afghanistan</td>\n",
       "      <td>2016</td>\n",
       "      <td>0.587345</td>\n",
       "    </tr>\n",
       "    <tr>\n",
       "      <th>YR2015</th>\n",
       "      <td>Afghanistan</td>\n",
       "      <td>2015</td>\n",
       "      <td>0.555973</td>\n",
       "    </tr>\n",
       "  </tbody>\n",
       "</table>\n",
       "<p>2321 rows × 3 columns</p>\n",
       "</div>"
      ],
      "text/plain": [
       "                           Country  Time  VC.IHR.PSRC.FE.P5\n",
       "economy time                                               \n",
       "ZWE     YR1990            Zimbabwe  1990           3.491390\n",
       "PSE     YR2020  West Bank and Gaza  2020           0.556783\n",
       "        YR2019  West Bank and Gaza  2019           0.285124\n",
       "        YR2018  West Bank and Gaza  2018           0.125190\n",
       "        YR2017  West Bank and Gaza  2017           0.213772\n",
       "...                            ...   ...                ...\n",
       "AFG     YR2019         Afghanistan  2019           1.285650\n",
       "        YR2018         Afghanistan  2018           0.846291\n",
       "        YR2017         Afghanistan  2017           0.753792\n",
       "        YR2016         Afghanistan  2016           0.587345\n",
       "        YR2015         Afghanistan  2015           0.555973\n",
       "\n",
       "[2321 rows x 3 columns]"
      ]
     },
     "execution_count": 5,
     "metadata": {},
     "output_type": "execute_result"
    }
   ],
   "source": [
    "df_raw"
   ]
  },
  {
   "cell_type": "code",
   "execution_count": null,
   "id": "e3906066-12a5-4d0e-9057-b4a642c958da",
   "metadata": {},
   "outputs": [],
   "source": [
    "df = df_raw.groupby('country')["
   ]
  }
 ],
 "metadata": {
  "kernelspec": {
   "display_name": "Python 3 (ipykernel)",
   "language": "python",
   "name": "python3"
  },
  "language_info": {
   "codemirror_mode": {
    "name": "ipython",
    "version": 3
   },
   "file_extension": ".py",
   "mimetype": "text/x-python",
   "name": "python",
   "nbconvert_exporter": "python",
   "pygments_lexer": "ipython3",
   "version": "3.10.6"
  }
 },
 "nbformat": 4,
 "nbformat_minor": 5
}
