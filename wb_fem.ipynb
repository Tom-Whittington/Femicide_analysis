{
 "cells": [
  {
   "cell_type": "code",
   "execution_count": 39,
   "id": "5ccff112-6ae2-4733-bf39-f6ed07dcdcce",
   "metadata": {
    "tags": []
   },
   "outputs": [],
   "source": [
    "import pandas as pd\n",
    "import wbgapi as wb"
   ]
  },
  {
   "cell_type": "code",
   "execution_count": 40,
   "id": "0f9aa77c-29d3-4c26-a931-284351629e27",
   "metadata": {
    "tags": []
   },
   "outputs": [],
   "source": [
    "df_raw = wb.data.DataFrame(['NY.GNP.PCAP.CD','SI.POV.GINI','VC.IHR.PSRC.FE.P5'], time=range(1990,2023), labels=True, skipBlanks =True, columns='series', skipAggs=True)"
   ]
  },
  {
   "cell_type": "code",
   "execution_count": 41,
   "id": "22f56b36-1422-475a-8038-7a88569514ed",
   "metadata": {
    "tags": []
   },
   "outputs": [],
   "source": [
    "df = df_raw.copy()"
   ]
  },
  {
   "cell_type": "code",
   "execution_count": 42,
   "id": "6beb0a92-40e2-4948-8712-d80995089260",
   "metadata": {},
   "outputs": [],
   "source": [
    "df = df.reset_index()"
   ]
  },
  {
   "cell_type": "code",
   "execution_count": 43,
   "id": "e3906066-12a5-4d0e-9057-b4a642c958da",
   "metadata": {},
   "outputs": [],
   "source": [
    "df = df.rename(columns={'economy':'iso3',\n",
    "                        'Time':'year',\n",
    "                        'VC.IHR.PSRC.FE.P5':'femicide_per_100k',\n",
    "                        'NY.GNP.PCAP.CD' : 'ginpc',\n",
    "                        'SI.POV.GINI' : 'gini',\n",
    "                        'Country':'country'})"
   ]
  },
  {
   "cell_type": "code",
   "execution_count": 44,
   "id": "68db24c5-dde7-4461-a602-5ecc5e411316",
   "metadata": {},
   "outputs": [],
   "source": [
    "df['year'] = pd.to_datetime(df['year'], format='%Y')\n",
    "\n",
    "df = df.drop(columns='time')\n",
    "\n",
    "df = df.set_index(['iso3', 'year'])"
   ]
  },
  {
   "cell_type": "code",
   "execution_count": 45,
   "id": "b155add9-2ae1-41ba-a56f-36cba467d9d0",
   "metadata": {
    "tags": []
   },
   "outputs": [
    {
     "data": {
      "text/html": [
       "<div>\n",
       "<style scoped>\n",
       "    .dataframe tbody tr th:only-of-type {\n",
       "        vertical-align: middle;\n",
       "    }\n",
       "\n",
       "    .dataframe tbody tr th {\n",
       "        vertical-align: top;\n",
       "    }\n",
       "\n",
       "    .dataframe thead th {\n",
       "        text-align: right;\n",
       "    }\n",
       "</style>\n",
       "<table border=\"1\" class=\"dataframe\">\n",
       "  <thead>\n",
       "    <tr style=\"text-align: right;\">\n",
       "      <th></th>\n",
       "      <th></th>\n",
       "      <th>country</th>\n",
       "      <th>ginpc</th>\n",
       "      <th>gini</th>\n",
       "      <th>femicide_per_100k</th>\n",
       "    </tr>\n",
       "    <tr>\n",
       "      <th>iso3</th>\n",
       "      <th>year</th>\n",
       "      <th></th>\n",
       "      <th></th>\n",
       "      <th></th>\n",
       "      <th></th>\n",
       "    </tr>\n",
       "  </thead>\n",
       "  <tbody>\n",
       "    <tr>\n",
       "      <th rowspan=\"5\" valign=\"top\">ZWE</th>\n",
       "      <th>2021-01-01</th>\n",
       "      <td>Zimbabwe</td>\n",
       "      <td>1530.0</td>\n",
       "      <td>NaN</td>\n",
       "      <td>NaN</td>\n",
       "    </tr>\n",
       "    <tr>\n",
       "      <th>2020-01-01</th>\n",
       "      <td>Zimbabwe</td>\n",
       "      <td>1460.0</td>\n",
       "      <td>NaN</td>\n",
       "      <td>NaN</td>\n",
       "    </tr>\n",
       "    <tr>\n",
       "      <th>2019-01-01</th>\n",
       "      <td>Zimbabwe</td>\n",
       "      <td>1450.0</td>\n",
       "      <td>50.3</td>\n",
       "      <td>NaN</td>\n",
       "    </tr>\n",
       "    <tr>\n",
       "      <th>2018-01-01</th>\n",
       "      <td>Zimbabwe</td>\n",
       "      <td>1550.0</td>\n",
       "      <td>NaN</td>\n",
       "      <td>NaN</td>\n",
       "    </tr>\n",
       "    <tr>\n",
       "      <th>2017-01-01</th>\n",
       "      <td>Zimbabwe</td>\n",
       "      <td>1170.0</td>\n",
       "      <td>44.3</td>\n",
       "      <td>NaN</td>\n",
       "    </tr>\n",
       "    <tr>\n",
       "      <th>...</th>\n",
       "      <th>...</th>\n",
       "      <td>...</td>\n",
       "      <td>...</td>\n",
       "      <td>...</td>\n",
       "      <td>...</td>\n",
       "    </tr>\n",
       "    <tr>\n",
       "      <th rowspan=\"5\" valign=\"top\">AND</th>\n",
       "      <th>2011-01-01</th>\n",
       "      <td>Andorra</td>\n",
       "      <td>NaN</td>\n",
       "      <td>NaN</td>\n",
       "      <td>0.000000</td>\n",
       "    </tr>\n",
       "    <tr>\n",
       "      <th>2010-01-01</th>\n",
       "      <td>Andorra</td>\n",
       "      <td>NaN</td>\n",
       "      <td>NaN</td>\n",
       "      <td>0.000000</td>\n",
       "    </tr>\n",
       "    <tr>\n",
       "      <th>2009-01-01</th>\n",
       "      <td>Andorra</td>\n",
       "      <td>NaN</td>\n",
       "      <td>NaN</td>\n",
       "      <td>0.000000</td>\n",
       "    </tr>\n",
       "    <tr>\n",
       "      <th>2008-01-01</th>\n",
       "      <td>Andorra</td>\n",
       "      <td>NaN</td>\n",
       "      <td>NaN</td>\n",
       "      <td>2.431462</td>\n",
       "    </tr>\n",
       "    <tr>\n",
       "      <th>2007-01-01</th>\n",
       "      <td>Andorra</td>\n",
       "      <td>NaN</td>\n",
       "      <td>NaN</td>\n",
       "      <td>0.000000</td>\n",
       "    </tr>\n",
       "  </tbody>\n",
       "</table>\n",
       "<p>6039 rows × 4 columns</p>\n",
       "</div>"
      ],
      "text/plain": [
       "                  country   ginpc  gini  femicide_per_100k\n",
       "iso3 year                                                 \n",
       "ZWE  2021-01-01  Zimbabwe  1530.0   NaN                NaN\n",
       "     2020-01-01  Zimbabwe  1460.0   NaN                NaN\n",
       "     2019-01-01  Zimbabwe  1450.0  50.3                NaN\n",
       "     2018-01-01  Zimbabwe  1550.0   NaN                NaN\n",
       "     2017-01-01  Zimbabwe  1170.0  44.3                NaN\n",
       "...                   ...     ...   ...                ...\n",
       "AND  2011-01-01   Andorra     NaN   NaN           0.000000\n",
       "     2010-01-01   Andorra     NaN   NaN           0.000000\n",
       "     2009-01-01   Andorra     NaN   NaN           0.000000\n",
       "     2008-01-01   Andorra     NaN   NaN           2.431462\n",
       "     2007-01-01   Andorra     NaN   NaN           0.000000\n",
       "\n",
       "[6039 rows x 4 columns]"
      ]
     },
     "execution_count": 45,
     "metadata": {},
     "output_type": "execute_result"
    }
   ],
   "source": [
    "df"
   ]
  },
  {
   "cell_type": "code",
   "execution_count": 46,
   "id": "9450a867-1775-4556-9c51-7ebd011ec8fb",
   "metadata": {
    "tags": []
   },
   "outputs": [
    {
     "data": {
      "text/plain": [
       "country                 0\n",
       "ginpc                 174\n",
       "gini                 4303\n",
       "femicide_per_100k    3718\n",
       "dtype: int64"
      ]
     },
     "execution_count": 46,
     "metadata": {},
     "output_type": "execute_result"
    }
   ],
   "source": [
    "df.isna().sum()"
   ]
  },
  {
   "cell_type": "code",
   "execution_count": 47,
   "id": "f21d772d-fb04-497c-b9ba-9a50bc7f6fc5",
   "metadata": {
    "tags": []
   },
   "outputs": [
    {
     "data": {
      "text/plain": [
       "210"
      ]
     },
     "execution_count": 47,
     "metadata": {},
     "output_type": "execute_result"
    }
   ],
   "source": [
    "df.country.nunique()"
   ]
  },
  {
   "cell_type": "code",
   "execution_count": null,
   "id": "a97469be-6b40-4668-b4a2-7f98002f9177",
   "metadata": {},
   "outputs": [],
   "source": []
  }
 ],
 "metadata": {
  "kernelspec": {
   "display_name": "Python 3 (ipykernel)",
   "language": "python",
   "name": "python3"
  },
  "language_info": {
   "codemirror_mode": {
    "name": "ipython",
    "version": 3
   },
   "file_extension": ".py",
   "mimetype": "text/x-python",
   "name": "python",
   "nbconvert_exporter": "python",
   "pygments_lexer": "ipython3",
   "version": "3.10.6"
  }
 },
 "nbformat": 4,
 "nbformat_minor": 5
}
